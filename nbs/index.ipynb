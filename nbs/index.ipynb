{
 "cells": [
  {
   "cell_type": "code",
   "execution_count": null,
   "metadata": {},
   "outputs": [],
   "source": [
    "#| hide\n",
    "from datasetsDynamic.loadDataYaz import *\n",
    "from datasetsDynamic.loadDataBakery import *"
   ]
  },
  {
   "cell_type": "markdown",
   "metadata": {},
   "source": [
    "# datasetsDynamic\n",
    "\n",
    "> A package to load datasets dynamically for benchmarking prescriptive analytics approaches."
   ]
  },
  {
   "cell_type": "markdown",
   "metadata": {},
   "source": [
    "## Install"
   ]
  },
  {
   "cell_type": "markdown",
   "metadata": {},
   "source": [
    "```sh\n",
    "pip install datasetsDynamic\n",
    "```"
   ]
  },
  {
   "cell_type": "markdown",
   "metadata": {},
   "source": [
    "## How to use"
   ]
  },
  {
   "cell_type": "markdown",
   "metadata": {},
   "source": [
    "For every dataset a load function is implemented which computes training and test data for the corresponding dataset including all preprocessing and basic feature engineering steps. For most datasets the test period can be chosen dynamically using the parameter `testDays`. While doing so, it is ensured that all features that depend on the train and test structure are computed only based on the training data. "
   ]
  },
  {
   "cell_type": "code",
   "execution_count": null,
   "metadata": {},
   "outputs": [
    {
     "name": "stderr",
     "output_type": "stream",
     "text": [
      "Rolling: 100%|██████████| 30/30 [00:00<00:00, 36.35it/s]\n",
      "Feature Extraction: 100%|██████████| 30/30 [00:02<00:00, 13.59it/s]\n",
      "Rolling: 100%|██████████| 30/30 [00:00<00:00, 35.29it/s]\n",
      "Feature Extraction: 100%|██████████| 30/30 [00:02<00:00, 12.19it/s]\n",
      "Rolling: 100%|██████████| 30/30 [00:00<00:00, 37.20it/s]\n",
      "Feature Extraction: 100%|██████████| 30/30 [00:02<00:00, 14.39it/s]\n"
     ]
    }
   ],
   "source": [
    "from datasetsDynamic.loadDataYaz import loadDataYaz\n",
    "data, XTrain, yTrain, XTest, yTest = loadDataYaz(testDays = 28, returnXY = True, daysToCut = 0, disable_progressbar = False)"
   ]
  },
  {
   "cell_type": "code",
   "execution_count": null,
   "metadata": {},
   "outputs": [
    {
     "name": "stderr",
     "output_type": "stream",
     "text": [
      "Rolling: 100%|██████████| 152/152 [00:11<00:00, 13.25it/s]\n",
      "Feature Extraction: 100%|██████████| 160/160 [00:43<00:00,  3.70it/s]\n",
      "Rolling: 100%|██████████| 152/152 [00:12<00:00, 11.84it/s]\n",
      "Feature Extraction: 100%|██████████| 160/160 [00:44<00:00,  3.59it/s]\n",
      "Rolling: 100%|██████████| 152/152 [00:11<00:00, 13.53it/s]\n",
      "Feature Extraction: 100%|██████████| 160/160 [00:44<00:00,  3.57it/s]\n"
     ]
    }
   ],
   "source": [
    "from datasetsDynamic.loadDataBakery import loadDataBakery\n",
    "data, XTrain, yTrain, XTest, yTest = loadDataBakery(testDays = 28, returnXY = True, daysToCut = 0, disable_progressbar = False)"
   ]
  }
 ],
 "metadata": {
  "kernelspec": {
   "display_name": "dddex",
   "language": "python",
   "name": "dddex"
  }
 },
 "nbformat": 4,
 "nbformat_minor": 4
}
