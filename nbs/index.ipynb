{
 "cells": [
  {
   "cell_type": "raw",
   "metadata": {},
   "source": [
    "---\n",
    "description: A package to load datasets dynamically for benchmarking prescriptive\n",
    "  analytics approaches.\n",
    "output-file: index.html\n",
    "title: datasetsDynamic\n",
    "\n",
    "---\n",
    "\n"
   ]
  },
  {
   "cell_type": "code",
   "execution_count": null,
   "metadata": {},
   "outputs": [],
   "source": [
    "#| hide\n",
    "from datasetsDynamic.loadDataYaz import *\n",
    "from datasetsDynamic.loadDataBakery import *"
   ]
  },
  {
   "cell_type": "markdown",
   "metadata": {},
   "source": [
    "## Install"
   ]
  },
  {
   "cell_type": "markdown",
   "metadata": {},
   "source": [
    "```sh\n",
    "pip install datasetsDynamic\n",
    "```"
   ]
  },
  {
   "cell_type": "markdown",
   "metadata": {},
   "source": [
    "## How to use"
   ]
  },
  {
   "cell_type": "markdown",
   "metadata": {},
   "source": [
    "For every dataset a load function is implemented which computes training and test data for the corresponding dataset including all preprocessing and basic feature engineering steps. For most datasets the test period can be chosen dynamically using the parameter `testDays`. While doing so, it is ensured that all features that depend on the train and test structure are computed only based on the training data. "
   ]
  },
  {
   "cell_type": "code",
   "execution_count": null,
   "metadata": {},
   "outputs": [],
   "source": [
    "from datasetsDynamic.loadDataYaz import loadDataYaz\n",
    "data, XTrain, yTrain, XTest, yTest = loadDataYaz(testDays = 28, daysToCut = 0, normalizeDemand = True, returnXY = True,)"
   ]
  },
  {
   "cell_type": "code",
   "execution_count": null,
   "metadata": {},
   "outputs": [],
   "source": [
    "from datasetsDynamic.loadDataBakery import loadDataBakery\n",
    "data, XTrain, yTrain, XTest, yTest = loadDataBakery(testDays = 28, daysToCut = 0, normalizeDemand = True, returnXY = True)"
   ]
  }
 ],
 "metadata": {
  "kernelspec": {
   "display_name": "datasets",
   "language": "python",
   "name": "datasets"
  }
 },
 "nbformat": 4,
 "nbformat_minor": 4
}
