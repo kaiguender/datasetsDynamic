{
 "cells": [
  {
   "cell_type": "code",
   "execution_count": null,
   "id": "40b6fb6e-0d35-4aaf-af55-f09d03426342",
   "metadata": {},
   "outputs": [],
   "source": [
    "#| hide\n",
    "import numpy as np\n",
    "import pandas as pd\n",
    "from math import isclose\n",
    "\n",
    "from datasetsDynamic.loadDataYaz import *\n",
    "from datasetsDynamic.loadDataBakery import *\n",
    "from fastcore.test import *"
   ]
  },
  {
   "cell_type": "code",
   "execution_count": null,
   "id": "879b3dc7-6d4b-4721-860d-33765d0e0e95",
   "metadata": {},
   "outputs": [],
   "source": [
    "data = loadDataYaz()"
   ]
  },
  {
   "cell_type": "code",
   "execution_count": null,
   "id": "ff36df36-358e-4348-a41f-d421f351f98f",
   "metadata": {},
   "outputs": [
    {
     "data": {
      "text/plain": [
       "(5159, 68)"
      ]
     },
     "execution_count": null,
     "metadata": {},
     "output_type": "execute_result"
    }
   ],
   "source": [
    "data.shape"
   ]
  },
  {
   "cell_type": "code",
   "execution_count": null,
   "id": "40a7dd4f-0647-4603-872f-58117d085238",
   "metadata": {},
   "outputs": [
    {
     "data": {
      "text/plain": [
       "0"
      ]
     },
     "execution_count": null,
     "metadata": {},
     "output_type": "execute_result"
    }
   ],
   "source": [
    "sum(np.isnan(data[['demand_lag_1', 'demand_lag_2']]).any(axis = 1))"
   ]
  },
  {
   "cell_type": "markdown",
   "id": "5e8a3d7d-0047-4f32-a0b0-e94a34484446",
   "metadata": {},
   "source": [
    "## Yaz "
   ]
  },
  {
   "cell_type": "markdown",
   "id": "191bce58-86a2-4562-be75-37998902f463",
   "metadata": {},
   "source": [
    "### No Lag NAs removed"
   ]
  },
  {
   "cell_type": "code",
   "execution_count": null,
   "id": "1a235178-a527-4e73-aaf1-f8c2005124ab",
   "metadata": {},
   "outputs": [],
   "source": [
    "#| hide\n",
    "testDays = 182\n",
    "daysToCut = 300\n",
    "\n",
    "data, XTrain, yTrain, XTest, yTest = loadDataYaz(testDays = testDays,\n",
    "                                                 daysToCut = 0,\n",
    "                                                 removeNAFromLag = False,\n",
    "                                                 returnXY = True,\n",
    "                                                 unstacked = False)\n",
    "\n",
    "data2, XTrain2, yTrain2, XTest2, yTest2 = loadDataYaz(testDays = testDays,\n",
    "                                                      daysToCut = daysToCut,\n",
    "                                                      removeNAFromLag = False,\n",
    "                                                      returnXY = True,\n",
    "                                                      unstacked = False)\n",
    "\n",
    "data3 = loadDataYaz(testDays = testDays,\n",
    "                    daysToCut = daysToCut,\n",
    "                    removeNAFromLag = False,\n",
    "                    returnXY = False,\n",
    "                    unstacked = False)\n",
    "\n",
    "#| hide\n",
    "assert XTest.shape[0] == len(data['id'].unique()) * testDays \n",
    "assert yTest.shape[0] == len(data['id'].unique()) * testDays\n",
    "\n",
    "assert XTrain.shape[0] == data.shape[0] - len(data['id'].unique()) * testDays\n",
    "assert yTrain.shape[0] == data.shape[0] - len(data['id'].unique()) * testDays\n",
    "\n",
    "scalingValues = data['scalingValue']\n",
    "test_eq(len(np.unique(scalingValues)), 7)\n",
    "        \n",
    "#---\n",
    "\n",
    "assert XTest2.shape[0] == len(data2['id'].unique()) * testDays\n",
    "assert yTest2.shape[0] == len(data2['id'].unique()) * testDays\n",
    "\n",
    "assert data2.shape[0] == data.shape[0] - len(data['id'].unique()) * daysToCut\n",
    "assert XTrain2.shape[0] == data.shape[0] - len(data['id'].unique()) * (daysToCut + testDays)\n",
    "assert yTrain2.shape[0] == data.shape[0] - len(data['id'].unique()) * (daysToCut + testDays)\n",
    "\n",
    "#---\n",
    "\n",
    "test_eq(data2, data3)"
   ]
  },
  {
   "cell_type": "markdown",
   "id": "2982e0ee-0b4d-4315-ad51-0ae008723ecb",
   "metadata": {},
   "source": [
    "### Lag NAs removed"
   ]
  },
  {
   "cell_type": "code",
   "execution_count": null,
   "id": "31577cbc-f3d6-450f-a29f-2d8f0053d777",
   "metadata": {},
   "outputs": [],
   "source": [
    "#| hide\n",
    "testDays = 14\n",
    "daysToCut = 0\n",
    "\n",
    "data, XTrain, yTrain, XTest, yTest = loadDataYaz(testDays = testDays,\n",
    "                                                 daysToCut = daysToCut,\n",
    "                                                 removeNAFromLag = True,\n",
    "                                                 lags = np.array([1, 2, 3, 4]),\n",
    "                                                 lagsArithmetic = np.array([2]),\n",
    "                                                 returnXY = True,\n",
    "                                                 unstacked = False)\n",
    "\n",
    "data2, XTrain2, yTrain2, XTest2, yTest2 = loadDataYaz(testDays = testDays,\n",
    "                                                      daysToCut = daysToCut,\n",
    "                                                      removeNAFromLag = True,\n",
    "                                                      lags = np.arange(1, 20),\n",
    "                                                      lagsArithmetic = np.array([7, 14]),\n",
    "                                                      returnXY = True,\n",
    "                                                      unstacked = False)\n",
    "\n",
    "data3, XTrain3, yTrain3, XTest3, yTest3 = loadDataYaz(testDays = testDays,\n",
    "                                                      daysToCut = daysToCut,\n",
    "                                                      removeNAFromLag = True,\n",
    "                                                      lags = np.arange(1, 14),\n",
    "                                                      lagsArithmetic = np.array([7, 14]),\n",
    "                                                      returnXY = True,\n",
    "                                                      unstacked = False)\n",
    "\n",
    "data4 = loadDataYaz(testDays = testDays,\n",
    "                    daysToCut = daysToCut,\n",
    "                    lags = np.arange(1, 14),\n",
    "                    lagsArithmetic = np.array([7, 14]),\n",
    "                    removeNAFromLag = True,\n",
    "                    returnXY = False,\n",
    "                    unstacked = False)\n",
    "\n",
    "#| hide\n",
    "assert XTest.shape[0] == len(data['id'].unique()) * testDays \n",
    "assert yTest.shape[0] == len(data['id'].unique()) * testDays\n",
    "\n",
    "assert XTrain.shape[0] == data.shape[0] - len(data['id'].unique()) * (testDays)\n",
    "assert yTrain.shape[0] == data.shape[0] - len(data['id'].unique()) * (testDays)\n",
    "\n",
    "scalingValues = data['scalingValue']\n",
    "test_eq(len(np.unique(scalingValues)), 7)\n",
    "        \n",
    "#---\n",
    "\n",
    "assert XTest2.shape[0] == len(data2['id'].unique()) * testDays\n",
    "assert yTest2.shape[0] == len(data2['id'].unique()) * testDays\n",
    "\n",
    "assert data2.shape[0] == data.shape[0] - len(data['id'].unique()) * (daysToCut + 19 - 4)\n",
    "assert XTrain2.shape[0] == data.shape[0] - len(data['id'].unique()) * (daysToCut + testDays + 19 - 4)\n",
    "assert yTrain2.shape[0] == data.shape[0] - len(data['id'].unique()) * (daysToCut + testDays + 19- 4)\n",
    "\n",
    "assert data2.shape[1] == data.shape[1] + 15 + 5 * 1\n",
    "\n",
    "#---\n",
    "\n",
    "assert XTest3.shape[0] == len(data3['id'].unique()) * testDays\n",
    "assert yTest3.shape[0] == len(data3['id'].unique()) * testDays\n",
    "\n",
    "assert data3.shape[0] == data.shape[0] - len(data['id'].unique()) * (daysToCut + 14 - 4)\n",
    "assert XTrain3.shape[0] == data.shape[0] - len(data['id'].unique()) * (daysToCut + testDays + 14 - 4)\n",
    "assert yTrain3.shape[0] == data.shape[0] - len(data['id'].unique()) * (daysToCut + testDays + 14 - 4)\n",
    "\n",
    "assert data3.shape[1] == data.shape[1] + 9 + 5 * 1"
   ]
  },
  {
   "cell_type": "markdown",
   "id": "d8b9c6d9-52dd-4d76-a1e4-ce318b7742d4",
   "metadata": {},
   "source": [
    "### Unstacked Output"
   ]
  },
  {
   "cell_type": "code",
   "execution_count": null,
   "id": "32d4ae69-ba06-437f-94c9-b31aa86e0869",
   "metadata": {},
   "outputs": [],
   "source": [
    "#| hide\n",
    "testDays = 182\n",
    "daysToCut = 300\n",
    "\n",
    "data, XTrain, yTrain, XTest, yTest = loadDataYaz(testDays = testDays,\n",
    "                                                  daysToCut = 0,\n",
    "                                                  returnXY = True,\n",
    "                                                  unstacked = True)\n",
    "\n",
    "data2, XTrain2, yTrain2, XTest2, yTest2 = loadDataYaz(testDays = testDays,\n",
    "                                                      daysToCut = daysToCut,\n",
    "                                                      returnXY = True,\n",
    "                                                      unstacked = True)\n",
    "\n",
    "data3 = loadDataYaz(testDays = testDays,\n",
    "                    daysToCut = daysToCut,\n",
    "                    returnXY = False,\n",
    "                    unstacked = True)"
   ]
  },
  {
   "cell_type": "code",
   "execution_count": null,
   "id": "af589ea0-3ae0-4425-b029-031cf537fc5f",
   "metadata": {},
   "outputs": [],
   "source": [
    "#| hide\n",
    "assert XTest.shape[0] == testDays \n",
    "assert yTest.shape[0] == testDays\n",
    "assert yTest.shape[1] == 7\n",
    "\n",
    "assert XTrain.shape[0] == data.shape[0] - testDays\n",
    "assert yTrain.shape[0] == data.shape[0] - testDays\n",
    "assert yTrain.shape[1] == 7\n",
    "\n",
    "scalingFeatures = [column for column in data.columns if 'scalingValue' in column]\n",
    "scalingFeaturesExpected = ['scalingValue_calamari',\n",
    "                           'scalingValue_chicken',\n",
    "                           'scalingValue_fish', \n",
    "                           'scalingValue_koefte', \n",
    "                           'scalingValue_lamb', \n",
    "                           'scalingValue_shrimp',\n",
    "                           'scalingValue_steak']\n",
    "\n",
    "test_eq(np.sort(scalingFeatures), np.sort(scalingFeaturesExpected))\n",
    "\n",
    "#---\n",
    "\n",
    "assert XTest2.shape[0] == testDays\n",
    "assert yTest2.shape[0] == testDays\n",
    "assert yTest2.shape[1] == 7\n",
    "\n",
    "assert data2.shape[0] == data.shape[0] - daysToCut\n",
    "assert XTrain2.shape[0] == data.shape[0] - (daysToCut + testDays)\n",
    "assert yTrain2.shape[0] == data.shape[0] - (daysToCut + testDays)\n",
    "assert yTrain2.shape[1] == 7\n",
    "\n",
    "#---\n",
    "\n",
    "test_eq(data2, data3)"
   ]
  },
  {
   "cell_type": "markdown",
   "id": "3da6ff36-3f57-4a83-85a0-5864d4f6061f",
   "metadata": {},
   "source": [
    "## Bakery"
   ]
  },
  {
   "cell_type": "code",
   "execution_count": null,
   "id": "097222b3-70fb-4cdd-8f1c-da9b30f3fe1f",
   "metadata": {},
   "outputs": [],
   "source": [
    "#| hide\n",
    "testDays = 28\n",
    "daysToCut = 90\n",
    "\n",
    "data, XTrain, yTrain, XTest, yTest = loadDataBakery(testDays = testDays,\n",
    "                                                    daysToCut = 0,\n",
    "                                                    returnXY = True)\n",
    "\n",
    "data2, XTrain2, yTrain2, XTest2, yTest2 = loadDataBakery(testDays = testDays,\n",
    "                                                         daysToCut = daysToCut,\n",
    "                                                         returnXY = True)"
   ]
  },
  {
   "cell_type": "code",
   "execution_count": null,
   "id": "3741fcaa-f966-40f2-b464-f8582cb5f5f3",
   "metadata": {},
   "outputs": [],
   "source": [
    "#| hide\n",
    "assert XTest.shape[0] == len(data['id'].unique()) * testDays \n",
    "assert yTest.shape[0] == len(data['id'].unique()) * testDays\n",
    "\n",
    "assert XTrain.shape[0] == data.shape[0] - len(data['id'].unique()) * testDays\n",
    "assert yTrain.shape[0] == data.shape[0] - len(data['id'].unique()) * testDays\n",
    "        \n",
    "#---\n",
    "\n",
    "assert XTest2.shape[0] == len(data2['id'].unique()) * testDays\n",
    "assert yTest2.shape[0] == len(data2['id'].unique()) * testDays\n",
    "\n",
    "assert data2.shape[0] == data.shape[0] - len(data['id'].unique()) * daysToCut\n",
    "assert XTrain2.shape[0] == data.shape[0] - len(data['id'].unique()) * (daysToCut + testDays)\n",
    "assert yTrain2.shape[0] == data.shape[0] - len(data['id'].unique()) * (daysToCut + testDays)"
   ]
  },
  {
   "cell_type": "code",
   "execution_count": null,
   "id": "af73e820-e026-45d8-8d98-521ba434d31c",
   "metadata": {},
   "outputs": [],
   "source": [
    "scalingValues = data['scalingValue']\n",
    "assert len(np.unique(scalingValues)) <= len(data['id'].unique())"
   ]
  }
 ],
 "metadata": {
  "kernelspec": {
   "display_name": "datasets",
   "language": "python",
   "name": "datasets"
  }
 },
 "nbformat": 4,
 "nbformat_minor": 5
}
