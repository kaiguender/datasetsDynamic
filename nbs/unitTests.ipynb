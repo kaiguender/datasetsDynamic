{
 "cells": [
  {
   "cell_type": "code",
   "execution_count": null,
   "id": "40b6fb6e-0d35-4aaf-af55-f09d03426342",
   "metadata": {},
   "outputs": [],
   "source": [
    "#| hide\n",
    "import numpy as np\n",
    "import pandas as pd\n",
    "from math import isclose\n",
    "\n",
    "from datasetsDynamic.loadData import *\n",
    "from fastcore.test import *"
   ]
  },
  {
   "cell_type": "markdown",
   "id": "5e8a3d7d-0047-4f32-a0b0-e94a34484446",
   "metadata": {},
   "source": [
    "## Loading Yaz Data"
   ]
  },
  {
   "cell_type": "code",
   "execution_count": null,
   "id": "1a235178-a527-4e73-aaf1-f8c2005124ab",
   "metadata": {},
   "outputs": [],
   "source": [
    "#| hide\n",
    "testDays = 182\n",
    "daysToCut = 300\n",
    "\n",
    "data, XTrain, yTrain, XTest, yTest = loadDataYaz(testDays = testDays,\n",
    "                                                 daysToCut = 0,\n",
    "                                                 returnXY = True)\n",
    "scalingList = data.loc[data['label'] == 'test', 'scalingValue'].tolist()\n",
    "\n",
    "data2, XTrain2, yTrain2, XTest2, yTest2 = loadDataYaz(testDays = testDays,\n",
    "                                                      daysToCut = daysToCut,\n",
    "                                                      returnXY = True)\n",
    "\n",
    "data3 = loadDataYaz(testDays = testDays,\n",
    "                    daysToCut = 300,\n",
    "                    returnXY = False)"
   ]
  },
  {
   "cell_type": "code",
   "execution_count": null,
   "id": "31577cbc-f3d6-450f-a29f-2d8f0053d777",
   "metadata": {},
   "outputs": [],
   "source": [
    "#| hide\n",
    "assert XTest.shape[0] == len(data['id'].unique()) * testDays \n",
    "assert yTest.shape[0] == len(data['id'].unique()) * testDays\n",
    "\n",
    "assert XTrain.shape[0] == data.shape[0] - len(data['id'].unique()) * testDays\n",
    "assert yTrain.shape[0] == data.shape[0] - len(data['id'].unique()) * testDays\n",
    "\n",
    "#---\n",
    "\n",
    "assert XTest2.shape[0] == len(data2['id'].unique()) * testDays\n",
    "assert yTest2.shape[0] == len(data2['id'].unique()) * testDays\n",
    "\n",
    "assert data2.shape[0] == data.shape[0] - len(data['id'].unique()) * daysToCut\n",
    "assert XTrain2.shape[0] == data.shape[0] - len(data['id'].unique()) * (daysToCut + testDays)\n",
    "assert yTrain2.shape[0] == data.shape[0] - len(data['id'].unique()) * (daysToCut + testDays)\n",
    "\n",
    "#---\n",
    "\n",
    "test_eq(data2, data3)"
   ]
  }
 ],
 "metadata": {
  "kernelspec": {
   "display_name": "dddex2",
   "language": "python",
   "name": "dddex2"
  }
 },
 "nbformat": 4,
 "nbformat_minor": 5
}
