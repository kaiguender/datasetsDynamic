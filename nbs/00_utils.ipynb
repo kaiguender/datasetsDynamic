{
 "cells": [
  {
   "cell_type": "code",
   "execution_count": null,
   "id": "6febe163-9721-4b15-8266-2a27e361d37d",
   "metadata": {},
   "outputs": [],
   "source": [
    "%load_ext autoreload\n",
    "%autoreload 2"
   ]
  },
  {
   "cell_type": "code",
   "execution_count": null,
   "id": "9288a302-2d75-4fc4-b221-705f86345a56",
   "metadata": {},
   "outputs": [],
   "source": [
    "#| default_exp utils"
   ]
  },
  {
   "cell_type": "code",
   "execution_count": null,
   "id": "ddf1e3ed-8793-4e8d-bead-c0a21bb3e8da",
   "metadata": {},
   "outputs": [],
   "source": [
    "#| export\n",
    "from __future__ import annotations\n",
    "from fastcore.docments import *\n",
    "from fastcore.test import *\n",
    "from fastcore.utils import *\n",
    "\n",
    "import pandas as pd\n",
    "import numpy as np"
   ]
  },
  {
   "cell_type": "markdown",
   "id": "7c4a9c2c-9dba-47f6-9da1-5bdc78fe505c",
   "metadata": {},
   "source": [
    "## Helper Functions"
   ]
  },
  {
   "cell_type": "markdown",
   "id": "0c89a573",
   "metadata": {},
   "source": [
    "# Create Lag Demand Features"
   ]
  },
  {
   "cell_type": "code",
   "execution_count": null,
   "id": "d9dbdcc1",
   "metadata": {},
   "outputs": [],
   "source": [
    "#| export\n",
    "\n",
    "def createLagFeatures(data, idFeature = 'id', lagDays = range(1, 8), lagDaysArithmetic = [7, 14, 21, 28]):\n",
    "\n",
    "    IDs = data[idFeature].unique()\n",
    "\n",
    "    yLagPerID = list()\n",
    "\n",
    "    # Loop over all items\n",
    "    for ID in IDs:\n",
    "        dataID = data[data[idFeature] == ID]\n",
    "\n",
    "        y = dataID.demand\n",
    "\n",
    "        # Create lag features of y (demand) with time windows of 7 days\n",
    "        lagDemands = [y.shift(i) for i in lagDays]\n",
    "        yLag = pd.concat(lagDemands, axis = 1)\n",
    "\n",
    "        yLag.columns = ['demand_lag_' + str(i) for i in range(1, 8)]\n",
    "\n",
    "        #---\n",
    "\n",
    "        yLagArithmeticList = list()\n",
    "        # Create lagged mean, max, min, variance, sum of last 7, 14, 21 and 28 days without current day\n",
    "        for i in lagDaysArithmetic:\n",
    "\n",
    "            # remove current day\n",
    "            yMod = y.shift(1)\n",
    "\n",
    "            # Compute lagged mean, max, min, variance, sum\n",
    "            yLagMean = yMod.rolling(i).mean()\n",
    "            yLagMean.name = 'demand_lag_mean_' + str(i)\n",
    "\n",
    "            yLagMax = yMod.rolling(i).max()\n",
    "            yLagMax.name = 'demand_lag_max_' + str(i)\n",
    "\n",
    "            yLagMin = yMod.rolling(i).min()\n",
    "            yLagMin.name = 'demand_lag_min_' + str(i)\n",
    "\n",
    "            yLagVar = yMod.rolling(i).var()\n",
    "            yLagVar.name = 'demand_lag_var_' + str(i)\n",
    "\n",
    "            yLagSum = yMod.rolling(i).sum()\n",
    "            yLagSum.name = 'demand_lag_sum_' + str(i)\n",
    "\n",
    "            yLagArithmetic = pd.concat([yLagMean, yLagMax, yLagMin, yLagVar, yLagSum], axis = 1)\n",
    "            yLagArithmeticList.append(yLagArithmetic)\n",
    "\n",
    "        yLagArithmeticAll = pd.concat(yLagArithmeticList, axis = 1)\n",
    "\n",
    "        # Add lag features to list\n",
    "        yLagAll = pd.concat([yLag, yLagArithmeticAll], axis = 1)\n",
    "        yLagPerID.append(yLagAll)\n",
    "\n",
    "    # Concatenate lag features of all items\n",
    "    yLagAllIDs = pd.concat(yLagPerID, axis = 0)\n",
    "\n",
    "    # Add lag features to data\n",
    "    dataWithLags = pd.concat([data, yLagAllIDs], axis = 1)\n",
    "\n",
    "    return dataWithLags\n"
   ]
  },
  {
   "cell_type": "markdown",
   "id": "cf532b12-762b-4302-b970-4b1b55321729",
   "metadata": {},
   "source": [
    "### Get Date Features"
   ]
  },
  {
   "cell_type": "code",
   "execution_count": null,
   "id": "103541ba-f761-47f6-b318-c9ed12b06c72",
   "metadata": {},
   "outputs": [],
   "source": [
    "#| export\n",
    "\n",
    "def getWeekdayFeature(weekday):\n",
    "    if weekday == 'MON':\n",
    "        weekdayInt = 1\n",
    "    elif weekday == 'TUE':\n",
    "        weekdayInt = 2\n",
    "    elif weekday == 'WED':\n",
    "        weekdayInt = 3\n",
    "    elif weekday == 'THU':\n",
    "        weekdayInt = 4\n",
    "    elif weekday == 'FRI':\n",
    "        weekdayInt = 5\n",
    "    elif weekday == 'SAT':\n",
    "        weekdayInt = 6\n",
    "    elif weekday == 'SUN':\n",
    "        weekdayInt = 7\n",
    "        \n",
    "    return weekdayInt        "
   ]
  },
  {
   "cell_type": "code",
   "execution_count": null,
   "id": "27e3104d-7453-4449-a986-dfd1400fd918",
   "metadata": {},
   "outputs": [],
   "source": [
    "#| export\n",
    "\n",
    "def getMonthFeature(month):\n",
    "    if month == 'JAN':\n",
    "        monthInt = 1\n",
    "    elif month == 'FEB':\n",
    "        monthInt = 2\n",
    "    elif month == 'MAR':\n",
    "        monthInt = 3\n",
    "    elif month == 'APR':\n",
    "        monthInt = 4\n",
    "    elif month == 'MAY':\n",
    "        monthInt = 5\n",
    "    elif month == 'JUN':\n",
    "        monthInt = 6\n",
    "    elif month == 'JUL':\n",
    "        monthInt = 7\n",
    "    elif month == 'AUG':\n",
    "        monthInt = 8\n",
    "    elif month == 'SEP':\n",
    "        monthInt = 9\n",
    "    elif month == 'OCT':\n",
    "        monthInt = 10\n",
    "    elif month == 'NOV':\n",
    "        monthInt = 11\n",
    "    elif month == 'DEC':\n",
    "        monthInt = 12\n",
    "    \n",
    "    return monthInt"
   ]
  },
  {
   "cell_type": "code",
   "execution_count": null,
   "id": "ba747cf3-2c08-405b-8f1a-ab7595d5e933",
   "metadata": {},
   "outputs": [],
   "source": [
    "#| export\n",
    "\n",
    "def getDayIndex(date):\n",
    "    year = date.timetuple().tm_year\n",
    "    \n",
    "    if year == 2016:\n",
    "        yearCoefficient = 0\n",
    "    elif year == 2017:\n",
    "        yearCoefficient = 366\n",
    "    elif year == 2018:\n",
    "        yearCoefficient = 366 + 365\n",
    "    elif year == 2019:\n",
    "        yearCoefficient = 366 + 365 + 365\n",
    "    elif year == 2020:\n",
    "        yearCoefficient = 366 + 365 + 365 + 365\n",
    "        \n",
    "    dayIndex = date.timetuple().tm_yday + yearCoefficient\n",
    "    \n",
    "    return dayIndex"
   ]
  },
  {
   "cell_type": "code",
   "execution_count": null,
   "id": "3904e301-c033-4ccd-9d00-623d1ca43676",
   "metadata": {},
   "outputs": [],
   "source": [
    "#| hide\n",
    "import nbdev; nbdev.nbdev_export()"
   ]
  }
 ],
 "metadata": {
  "kernelspec": {
   "display_name": "datasets",
   "language": "python",
   "name": "datasets"
  }
 },
 "nbformat": 4,
 "nbformat_minor": 5
}
